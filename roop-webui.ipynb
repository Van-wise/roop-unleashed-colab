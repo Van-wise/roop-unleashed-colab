{
 "cells": [
  {
   "cell_type": "markdown",
   "metadata": {},
   "source": [
    "##Roop unleashed Webui_v1.3.2 极速版\n",
    "\n",
    "---\n",
    "\n",
    "[![Open In Colab](https://colab.research.google.com/assets/colab-badge.svg)](https://colab.research.google.com/github/Van-wise/roop-colab/blob/main/roop_v1_3_ipynb.ipynb)\n",
    "[![Visitors](https://api.visitorbadge.io/api/visitors?path=https%3A%2F%2Fcolab.research.google.com%2Fgithub%2FVan-wise%2Froop-colab%2Fblob%2Fmain%2Froop_v1_3_ipynb.ipynb&labelColor=%232ccce4&countColor=%23555555&style=flat&labelStyle=upper)](https://visitorbadge.io/status?path=https%3A%2F%2Fcolab.research.google.com%2Fgithub%2FVan-wise%2Froop-colab%2Fblob%2Fmain%2Froop_v1_3_ipynb.ipynb)\n",
    "\n",
    "---\n",
    "\n",
    "\n",
    "<font color=\"red\">**项目地址**：https://github.com/Van-wise/roop-colab\n",
    "\n",
    "**如果遇到报错,请联系up：**\n",
    "[bilibili](https://space.bilibili.com/1308057) or [issues](https://github.com/Van-wise/roop-colab/issues)"
   ]
  },
  {
   "cell_type": "markdown",
   "metadata": {
    "id": "0ZYRNb0AWLLW"
   },
   "source": [
    "Installing & preparing requirements"
   ]
  },
  {
   "cell_type": "code",
   "execution_count": null,
   "metadata": {},
   "outputs": [],
   "source": [
    "#@title 1.克隆项目&下载模型&安装依赖\n",
    "\n",
    "import os\n",
    "import time\n",
    "from IPython.utils import capture\n",
    "from IPython.display import clear_output, display, HTML\n",
    "import warnings\n",
    "os.environ['PYTHONWARNINGS'] = 'ignore'\n",
    "os.environ[\"TF_CPP_MIN_LOG_LEVEL\"] = \"3\"\n",
    "!git config --global advice.detachedHead false\n",
    "!sed -i 's@text = _formatwarnmsg(msg)@text =\\\"\\\"@g' {warnings.__file__}\n",
    "warnings.filterwarnings(\"ignore\")\n",
    "\n",
    "手机端防掉线 = False # @param {\"type\":\"boolean\"}\n",
    "链接谷歌云盘 = True # @param {\"type\":\"boolean\"}\n",
    "\n",
    "os.chdir('/content/')\n",
    "!git clone -q --depth 1 https://github.com/Van-wise/roop-webui-colab roop\n",
    "%run /content/roop/wise.py\n",
    "clear_output()\n",
    "\n",
    "content_models(链接谷歌云盘)\n",
    "mobile_keepalive(手机端防掉线)\n"
   ]
  },
  {
   "cell_type": "markdown",
   "metadata": {
    "id": "u_4JQiSlV9Fi"
   },
   "source": [
    "Running roop-unleashed with default config"
   ]
  },
  {
   "cell_type": "code",
   "execution_count": null,
   "metadata": {
    "id": "Is6U2huqSzLE"
   },
   "outputs": [],
   "source": [
    "!python run.py"
   ]
  },
  {
   "cell_type": "markdown",
   "metadata": {
    "id": "UdQ1VHdI8lCf"
   },
   "source": [
    "### Download generated images folder\n",
    "(only needed if you want to zip the generated output)"
   ]
  },
  {
   "cell_type": "code",
   "execution_count": null,
   "metadata": {
    "colab": {
     "base_uri": "https://localhost:8080/",
     "height": 17
    },
    "id": "oYjWveAmw10X",
    "outputId": "5b4c3650-f951-434a-c650-5525a8a70c1e"
   },
   "outputs": [
    {
     "data": {
      "application/javascript": "\n    async function download(id, filename, size) {\n      if (!google.colab.kernel.accessAllowed) {\n        return;\n      }\n      const div = document.createElement('div');\n      const label = document.createElement('label');\n      label.textContent = `Downloading \"${filename}\": `;\n      div.appendChild(label);\n      const progress = document.createElement('progress');\n      progress.max = size;\n      div.appendChild(progress);\n      document.body.appendChild(div);\n\n      const buffers = [];\n      let downloaded = 0;\n\n      const channel = await google.colab.kernel.comms.open(id);\n      // Send a message to notify the kernel that we're ready.\n      channel.send({})\n\n      for await (const message of channel.messages) {\n        // Send a message to notify the kernel that we're ready.\n        channel.send({})\n        if (message.buffers) {\n          for (const buffer of message.buffers) {\n            buffers.push(buffer);\n            downloaded += buffer.byteLength;\n            progress.value = downloaded;\n          }\n        }\n      }\n      const blob = new Blob(buffers, {type: 'application/binary'});\n      const a = document.createElement('a');\n      a.href = window.URL.createObjectURL(blob);\n      a.download = filename;\n      div.appendChild(a);\n      a.click();\n      div.remove();\n    }\n  ",
      "text/plain": [
       "<IPython.core.display.Javascript object>"
      ]
     },
     "metadata": {},
     "output_type": "display_data"
    },
    {
     "data": {
      "application/javascript": "download(\"download_789eab11-93d2-4880-adf3-6aceee0cc5f9\", \"fake_output.zip.zip\", 80125)",
      "text/plain": [
       "<IPython.core.display.Javascript object>"
      ]
     },
     "metadata": {},
     "output_type": "display_data"
    }
   ],
   "source": [
    "import shutil\n",
    "import os\n",
    "from google.colab import files\n",
    "\n",
    "def zip_directory(directory_path, zip_path):\n",
    "    shutil.make_archive(zip_path, 'zip', directory_path)\n",
    "\n",
    "# Set the directory path you want to download\n",
    "directory_path = '/content/roop-unleashed/output'\n",
    "\n",
    "# Set the zip file name\n",
    "zip_filename = 'fake_output.zip'\n",
    "\n",
    "# Zip the directory\n",
    "zip_directory(directory_path, zip_filename)\n",
    "\n",
    "# Download the zip file\n",
    "files.download(zip_filename+'.zip')\n"
   ]
  }
 ],
 "metadata": {
  "accelerator": "GPU",
  "colab": {
   "collapsed_sections": [
    "UdQ1VHdI8lCf"
   ],
   "gpuType": "T4",
   "provenance": []
  },
  "kernelspec": {
   "display_name": "Python 3",
   "name": "python3"
  },
  "language_info": {
   "name": "python"
  }
 },
 "nbformat": 4,
 "nbformat_minor": 0
}
